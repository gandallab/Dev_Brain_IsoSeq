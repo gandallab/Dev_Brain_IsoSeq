{
 "cells": [
  {
   "cell_type": "markdown",
   "id": "203c1609",
   "metadata": {},
   "source": [
    "# Comparison of DevBrain IsoSeq vs CHESS Transcriptomes\n",
    "\n",
    "\n",
    "## Download CHESS v 3.0.1 Datasets\n",
    "### Primary Transcriptome\n",
    "* 168451 transcripts"
   ]
  },
  {
   "cell_type": "code",
   "execution_count": 1,
   "id": "2d41d611",
   "metadata": {},
   "outputs": [],
   "source": [
    "cd /u/project/gandalm/gandalm/jupyter/240529_IsoSeq_vs_CHESS\n",
    "if [ ! -d ./data ]; then\n",
    "    mkdir data\n",
    "fi\n",
    "\n",
    "if [ ! -d ./results ]; then\n",
    "    mkdir results\n",
    "fi"
   ]
  },
  {
   "cell_type": "code",
   "execution_count": 2,
   "id": "ee2e729a",
   "metadata": {},
   "outputs": [
    {
     "name": "stdout",
     "output_type": "stream",
     "text": [
      "168451\n"
     ]
    }
   ],
   "source": [
    "wget -P ./data https://github.com/chess-genome/chess/releases/download/v.3.0.1/chess3.0.1.gtf.gz \n",
    "gunzip data/chess3.0.1.gtf.gz\n",
    "\n",
    "cat data/chess3.0.1.gtf | awk ' $3 == \"transcript\" { print }  ' | wc -l"
   ]
  },
  {
   "cell_type": "markdown",
   "id": "a98f8542",
   "metadata": {},
   "source": [
    "### Assembled Transcriptome \n",
    "* 987244 transcripts"
   ]
  },
  {
   "cell_type": "code",
   "execution_count": 4,
   "id": "6b4538db",
   "metadata": {},
   "outputs": [
    {
     "name": "stdout",
     "output_type": "stream",
     "text": [
      "987244\n"
     ]
    }
   ],
   "source": [
    "#wget -P ./data/ https://github.com/chess-genome/chess/releases/download/v.3.0.1/assembled.gtf.gz\n",
    "#gunzip data/assembled.gtf.gz\n",
    "cat data/assembled.gtf | awk ' $3 == \"transcript\" { print }  ' | wc -l\n"
   ]
  },
  {
   "cell_type": "markdown",
   "id": "303334c4",
   "metadata": {},
   "source": [
    "## Download IsoSeq Data from Developing Human Brain\n",
    "### hg19 version:\n",
    "* 214516 transcripts (total)"
   ]
  },
  {
   "cell_type": "code",
   "execution_count": 5,
   "id": "5ff5a004",
   "metadata": {},
   "outputs": [
    {
     "name": "stdout",
     "output_type": "stream",
     "text": [
      "214516\n"
     ]
    }
   ],
   "source": [
    "#wget -P ./data https://github.com/gandallab/Dev_Brain_IsoSeq/raw/main/data/cp_vz_0.75_min_7_recovery_talon.gtf.gz\n",
    "#gunzip data/cp_vz_0.75_min_7_recovery_talon.gtf.gz\n",
    "cat data/cp_vz_0.75_min_7_recovery_talon.gtf | awk ' $3 == \"transcript\" { print }  ' | wc -l\n"
   ]
  },
  {
   "cell_type": "markdown",
   "id": "2d2ff063",
   "metadata": {},
   "source": [
    "### CrossMap to hg38\n",
    "* Install crossmap, download liftover chain"
   ]
  },
  {
   "cell_type": "code",
   "execution_count": null,
   "id": "d8c722de",
   "metadata": {},
   "outputs": [],
   "source": [
    "# mamba install CrossMap\n",
    "wget -P ./data/ https://hgdownload.soe.ucsc.edu/goldenPath/hg19/liftOver/hg19ToHg38.over.chain.gz"
   ]
  },
  {
   "cell_type": "code",
   "execution_count": 6,
   "id": "e3044953",
   "metadata": {},
   "outputs": [
    {
     "name": "stdout",
     "output_type": "stream",
     "text": [
      "2024-05-29 12:04:13 [INFO]  Read the chain file \"data/hg19ToHg38.over.chain.gz\" \n",
      "204191\n",
      "141975\n"
     ]
    }
   ],
   "source": [
    "CrossMap  gff data/hg19ToHg38.over.chain.gz data/cp_vz_0.75_min_7_recovery_talon.gtf data/devBrainIsoSeq_hg38.gtf\n",
    "\n",
    "cat data/devBrainIsoSeq_hg38.gtf | awk ' $3 == \"transcript\" {print} ' | wc -l\n",
    "\n",
    "cat data/devBrainIsoSeq_hg38.gtf | grep NOVEL > data/devBrainIsoSeq_hg38_novel.gtf\n",
    "\n",
    "cat data/devBrainIsoSeq_hg38_novel.gtf | awk ' $3 == \"transcript\" {print} ' | wc -l"
   ]
  },
  {
   "cell_type": "markdown",
   "id": "b1de1e4e",
   "metadata": {},
   "source": [
    "* devBrainIsoSeq_hg38.gtf has 204191 total transcripts\n",
    "* devBrainIsoSeq_hg38_novel.gtf has 141975 novel transcripts\n"
   ]
  },
  {
   "cell_type": "markdown",
   "id": "fd414c3e",
   "metadata": {},
   "source": [
    "## Compare Transcriptome Annotations with GFFCOMPARE"
   ]
  },
  {
   "cell_type": "code",
   "execution_count": 7,
   "id": "d6927b90",
   "metadata": {},
   "outputs": [
    {
     "name": "stdout",
     "output_type": "stream",
     "text": [
      "gffcompare v0.12.6\n"
     ]
    }
   ],
   "source": [
    "gffcompare --version"
   ]
  },
  {
   "cell_type": "markdown",
   "id": "4c8080fd",
   "metadata": {},
   "source": [
    "### 1. Isoseq vs Primary CHESS"
   ]
  },
  {
   "cell_type": "code",
   "execution_count": 9,
   "id": "6425e9f7",
   "metadata": {},
   "outputs": [
    {
     "name": "stdout",
     "output_type": "stream",
     "text": [
      "  168451 reference transcripts loaded.\n",
      "  291 duplicate reference transcripts discarded.\n",
      "  214394 query transfrags loaded.\n",
      "# gffcompare v0.12.6 | Command line was:\n",
      "#gffcompare data/devBrainIsoSeq_hg38.gtf -r data/chess3.0.1.gtf -o results/IsoSeq_vs_Primary\n",
      "#\n",
      "\n",
      "#= Summary for dataset: data/devBrainIsoSeq_hg38.gtf \n",
      "#     Query mRNAs :  214394 in   23376 loci  (206255 multi-exon transcripts)\n",
      "#            (13767 multi-transcript loci, ~9.2 transcripts per locus)\n",
      "# Reference mRNAs :  168160 in   61304 loci  (141572 multi-exon)\n",
      "# Super-loci w/ reference transcripts:    19733\n",
      "#-----------------| Sensitivity | Precision  |\n",
      "        Base level:    40.9     |    62.8    |\n",
      "        Exon level:    48.8     |    62.2    |\n",
      "      Intron level:    53.6     |    79.5    |\n",
      "Intron chain level:    31.6     |    21.7    |\n",
      "  Transcript level:    28.4     |    22.3    |\n",
      "       Locus level:    28.9     |    73.7    |\n",
      "\n",
      "     Matching intron chains:   44805\n",
      "       Matching transcripts:   47720\n",
      "              Matching loci:   17687\n",
      "\n",
      "          Missed exons:  186195/416908\t( 44.7%)\n",
      "           Novel exons:   17210/363391\t(  4.7%)\n",
      "        Missed introns:  125713/341694\t( 36.8%)\n",
      "         Novel introns:    8623/230362\t(  3.7%)\n",
      "           Missed loci:   40347/61304\t( 65.8%)\n",
      "            Novel loci:    2964/23376\t( 12.7%)\n",
      "\n",
      " Total union super-loci across all input datasets: 22697 \n",
      "214394 out of 214394 consensus transcripts written in results/IsoSeq_vs_Primary.annotated.gtf (0 discarded as redundant)\n"
     ]
    }
   ],
   "source": [
    "gffcompare data/devBrainIsoSeq_hg38.gtf -r data/chess3.0.1.gtf -o results/IsoSeq_vs_Primary\n",
    "cat results/IsoSeq_vs_Primary.stats"
   ]
  },
  {
   "cell_type": "markdown",
   "id": "838efe16",
   "metadata": {},
   "source": [
    "* 47720 / 214394 IsoSeq transcripts (22%) are found in CHESS Primary GTF\n",
    "\n",
    "\n",
    "### 2. Isoseq vs Assembled Transcripts"
   ]
  },
  {
   "cell_type": "code",
   "execution_count": 10,
   "id": "823060b4",
   "metadata": {},
   "outputs": [
    {
     "name": "stdout",
     "output_type": "stream",
     "text": [
      "  987244 reference transcripts loaded.\n",
      "  115 duplicate reference transcripts discarded.\n",
      "  214394 query transfrags loaded.\n",
      "# gffcompare v0.12.6 | Command line was:\n",
      "#gffcompare -r data/assembled.gtf data/devBrainIsoSeq_hg38.gtf -o results/IsoSeq_vs_Assembly\n",
      "#\n",
      "\n",
      "#= Summary for dataset: data/devBrainIsoSeq_hg38.gtf \n",
      "#     Query mRNAs :  214394 in   23376 loci  (206255 multi-exon transcripts)\n",
      "#            (13767 multi-transcript loci, ~9.2 transcripts per locus)\n",
      "# Reference mRNAs :  987129 in  168026 loci  (882562 multi-exon)\n",
      "# Super-loci w/ reference transcripts:    16125\n",
      "#-----------------| Sensitivity | Precision  |\n",
      "        Base level:    12.8     |    77.8    |\n",
      "        Exon level:    14.2     |    62.5    |\n",
      "      Intron level:    24.1     |    84.4    |\n",
      "Intron chain level:     6.5     |    27.8    |\n",
      "  Transcript level:     5.9     |    27.0    |\n",
      "       Locus level:     8.8     |    69.4    |\n",
      "\n",
      "     Matching intron chains:   57263\n",
      "       Matching transcripts:   57925\n",
      "              Matching loci:   14792\n",
      "\n",
      "          Missed exons: 1416258/2008239\t( 70.5%)\n",
      "           Novel exons:    9843/363391\t(  2.7%)\n",
      "        Missed introns:  509078/805717\t( 63.2%)\n",
      "         Novel introns:    5046/230362\t(  2.2%)\n",
      "           Missed loci:  151168/168026\t( 90.0%)\n",
      "            Novel loci:    3778/23376\t( 16.2%)\n",
      "\n",
      " Total union super-loci across all input datasets: 19903 \n",
      "214394 out of 214394 consensus transcripts written in results/IsoSeq_vs_Assembly.annotated.gtf (0 discarded as redundant)\n"
     ]
    }
   ],
   "source": [
    "gffcompare -r data/assembled.gtf data/devBrainIsoSeq_hg38.gtf -o results/IsoSeq_vs_Assembly\n",
    "cat results/IsoSeq_vs_Assembly.stats"
   ]
  },
  {
   "cell_type": "markdown",
   "id": "a8d9b9ab",
   "metadata": {},
   "source": [
    "* 57263 / 214394  IsoSeq transcripts (26.7%) are found in the Assembled \n",
    "\n",
    "\n",
    "### 3. IsoSeq vs (Primary + Assembled) Transcripts"
   ]
  },
  {
   "cell_type": "code",
   "execution_count": 11,
   "id": "8163bd35",
   "metadata": {},
   "outputs": [
    {
     "name": "stdout",
     "output_type": "stream",
     "text": [
      "Loading query file #1: data/assembled.gtf\n",
      "  987244 query transfrags loaded.\n",
      "  868 duplicate query transfrags discarded.\n",
      "Loading query file #2: data/chess3.0.1.gtf\n",
      "  168451 query transfrags loaded.\n",
      "  372 duplicate query transfrags discarded.\n",
      "  1053854 reference transcripts loaded.\n",
      "  214394 query transfrags loaded.\n",
      "# gffcompare v0.12.6 | Command line was:\n",
      "#gffcompare -r results/Primary_and_Assembled.combined.gtf data/devBrainIsoSeq_hg38.gtf -o results/IsoSeq_vs_Primary_and_Assembled -T\n",
      "#\n",
      "\n",
      "#= Summary for dataset: data/devBrainIsoSeq_hg38.gtf \n",
      "#     Query mRNAs :  214394 in   23376 loci  (206255 multi-exon transcripts)\n",
      "#            (13767 multi-transcript loci, ~9.2 transcripts per locus)\n",
      "# Reference mRNAs : 1053854 in  186194 loci  (924838 multi-exon)\n",
      "# Super-loci w/ reference transcripts:    18217\n",
      "#-----------------| Sensitivity | Precision  |\n",
      "        Base level:    12.4     |    79.7    |\n",
      "        Exon level:    14.3     |    64.7    |\n",
      "      Intron level:    23.2     |    85.7    |\n",
      "Intron chain level:     6.8     |    30.7    |\n",
      "  Transcript level:     6.3     |    30.9    |\n",
      "       Locus level:     8.9     |    78.6    |\n",
      "\n",
      "     Matching intron chains:   63325\n",
      "       Matching transcripts:   66325\n",
      "              Matching loci:   16630\n",
      "\n",
      "          Missed exons: 1482550/2098561\t( 70.6%)\n",
      "           Novel exons:    6763/363391\t(  1.9%)\n",
      "        Missed introns:  540195/849642\t( 63.6%)\n",
      "         Novel introns:    4775/230362\t(  2.1%)\n",
      "           Missed loci:  167044/186194\t( 89.7%)\n",
      "            Novel loci:    1601/23376\t(  6.8%)\n",
      "\n",
      " Total union super-loci across all input datasets: 19818 \n",
      "214394 out of 214394 consensus transcripts written in results/IsoSeq_vs_Primary_and_Assembled.annotated.gtf (0 discarded as redundant)\n"
     ]
    }
   ],
   "source": [
    "gffcompare data/assembled.gtf data/chess3.0.1.gtf -o results/Primary_and_Assembled\n",
    "gffcompare -r results/Primary_and_Assembled.combined.gtf data/devBrainIsoSeq_hg38.gtf -o results/IsoSeq_vs_Primary_and_Assembled -T\n",
    "cat results/IsoSeq_vs_Primary_and_Assembled.stats"
   ]
  },
  {
   "cell_type": "markdown",
   "id": "47b4bf82",
   "metadata": {},
   "source": [
    "* 66325 / 214394 of the IsoSeq transcripts (31%) match the combined CHESS Primary + Assembled Transcriptomes\n",
    "* 148069  / 214394 IsoSeq transcripts are NOT found in CHESS Primary or Assembled GTFs\n",
    "\n",
    "### 4. NOVEL_only IsoSeq vs (Primary + Assembled) Transcripts\n"
   ]
  },
  {
   "cell_type": "code",
   "execution_count": 12,
   "id": "e57fbfa7",
   "metadata": {},
   "outputs": [
    {
     "name": "stdout",
     "output_type": "stream",
     "text": [
      "  1053854 reference transcripts loaded.\n",
      "  150038 query transfrags loaded.\n",
      "# gffcompare v0.12.6 | Command line was:\n",
      "#gffcompare -r results/Primary_and_Assembled.combined.gtf data/devBrainIsoSeq_hg38_novel.gtf -o results/IsoSeqNovel_vs_Primary_and_Assembled\n",
      "#\n",
      "\n",
      "#= Summary for dataset: data/devBrainIsoSeq_hg38_novel.gtf \n",
      "#     Query mRNAs :  150038 in   13162 loci  (149132 multi-exon transcripts)\n",
      "#            (10128 multi-transcript loci, ~11.4 transcripts per locus)\n",
      "# Reference mRNAs : 1053854 in  186194 loci  (924838 multi-exon)\n",
      "# Super-loci w/ reference transcripts:    11107\n",
      "#-----------------| Sensitivity | Precision  |\n",
      "        Base level:     7.9     |    76.6    |\n",
      "        Exon level:    10.1     |    65.3    |\n",
      "      Intron level:    17.5     |    83.8    |\n",
      "Intron chain level:     2.8     |    17.4    |\n",
      "  Transcript level:     2.5     |    17.4    |\n",
      "       Locus level:     4.4     |    66.2    |\n",
      "\n",
      "     Matching intron chains:   25897\n",
      "       Matching transcripts:   26084\n",
      "              Matching loci:    8207\n",
      "\n",
      "          Missed exons: 1663686/2098561\t( 79.3%)\n",
      "           Novel exons:    4817/247248\t(  1.9%)\n",
      "        Missed introns:  613601/849642\t( 72.2%)\n",
      "         Novel introns:    4591/177429\t(  2.6%)\n",
      "           Missed loci:  174396/186194\t( 93.7%)\n",
      "            Novel loci:     659/13162\t(  5.0%)\n",
      "\n",
      " Total union super-loci across all input datasets: 11766 \n",
      "150038 out of 150038 consensus transcripts written in results/IsoSeqNovel_vs_Primary_and_Assembled.annotated.gtf (0 discarded as redundant)\n"
     ]
    }
   ],
   "source": [
    "gffcompare -r results/Primary_and_Assembled.combined.gtf data/devBrainIsoSeq_hg38_novel.gtf -o results/IsoSeqNovel_vs_Primary_and_Assembled\n",
    "cat results/IsoSeqNovel_vs_Primary_and_Assembled.stats"
   ]
  },
  {
   "cell_type": "markdown",
   "id": "36bf709f",
   "metadata": {},
   "source": [
    "* 26084 / 150038 of NOVEL IsoSeq Transcripts (17.4%) are found in CHESS Primary + Assembled\n",
    "\n",
    "### 5. NOVEL_only IsoSeq vs (Primary + Assembled) Transcripts with Relaxed Matching\n",
    "-e 1000\n",
    "-d 1000"
   ]
  },
  {
   "cell_type": "code",
   "execution_count": 13,
   "id": "931b5a20",
   "metadata": {},
   "outputs": [
    {
     "name": "stdout",
     "output_type": "stream",
     "text": [
      "  1053854 reference transcripts loaded.\n",
      "  150038 query transfrags loaded.\n",
      "# gffcompare v0.12.6 | Command line was:\n",
      "#gffcompare data/devBrainIsoSeq_hg38_novel.gtf -T -e 1000 -d 1000 -r results/Primary_and_Assembled.combined.gtf -o results/IsoSeqNovel_vs_Primary_and_Assembled_relaxed\n",
      "#\n",
      "\n",
      "#= Summary for dataset: data/devBrainIsoSeq_hg38_novel.gtf \n",
      "#     Query mRNAs :  150038 in   13162 loci  (149132 multi-exon transcripts)\n",
      "#            (10128 multi-transcript loci, ~11.4 transcripts per locus)\n",
      "# Reference mRNAs : 1053854 in  186194 loci  (924838 multi-exon)\n",
      "# Super-loci w/ reference transcripts:    11107\n",
      "#-----------------| Sensitivity | Precision  |\n",
      "        Base level:     7.9     |    76.6    |\n",
      "        Exon level:    12.7     |    69.8    |\n",
      "      Intron level:    17.5     |    83.8    |\n",
      "Intron chain level:     2.8     |    17.4    |\n",
      "  Transcript level:     2.5     |    17.4    |\n",
      "       Locus level:     4.4     |    66.2    |\n",
      "\n",
      "     Matching intron chains:   25897\n",
      "       Matching transcripts:   26084\n",
      "              Matching loci:    8207\n",
      "\n",
      "          Missed exons: 1663686/2098561\t( 79.3%)\n",
      "           Novel exons:    4817/247248\t(  1.9%)\n",
      "        Missed introns:  613601/849642\t( 72.2%)\n",
      "         Novel introns:    4591/177429\t(  2.6%)\n",
      "           Missed loci:  174396/186194\t( 93.7%)\n",
      "            Novel loci:     659/13162\t(  5.0%)\n",
      "\n",
      " Total union super-loci across all input datasets: 11766 \n",
      "150038 out of 150038 consensus transcripts written in results/IsoSeqNovel_vs_Primary_and_Assembled_relaxed.annotated.gtf (0 discarded as redundant)\n"
     ]
    }
   ],
   "source": [
    "gffcompare data/devBrainIsoSeq_hg38_novel.gtf -T -e 1000 -d 1000 -r results/Primary_and_Assembled.combined.gtf -o results/IsoSeqNovel_vs_Primary_and_Assembled_relaxed\n",
    "cat results/IsoSeqNovel_vs_Primary_and_Assembled_relaxed.stats"
   ]
  },
  {
   "cell_type": "markdown",
   "id": "38546f55",
   "metadata": {},
   "source": [
    "## CONCLUSIONS\n",
    "#### 124k of 149k (>82%) of NOVEL IsoSeq Transcripts identified in the developing human brain are not present in CHESS (168k) or Assembled (987k) Transcriptomes\n",
    "#### 148k / 214k (>69%) of TOTAL IsoSeq Transcripts identified in the developing human brain are not present in CHESS (168k) or Assembled (987k) Transcriptomes"
   ]
  },
  {
   "cell_type": "code",
   "execution_count": null,
   "id": "f81711ed",
   "metadata": {},
   "outputs": [],
   "source": [
    "gzip data/*.gtf\n",
    "gzip results/*.gtf"
   ]
  }
 ],
 "metadata": {
  "kernelspec": {
   "display_name": "Bash",
   "language": "bash",
   "name": "bash"
  },
  "language_info": {
   "codemirror_mode": "shell",
   "file_extension": ".sh",
   "mimetype": "text/x-sh",
   "name": "bash"
  }
 },
 "nbformat": 4,
 "nbformat_minor": 5
}
